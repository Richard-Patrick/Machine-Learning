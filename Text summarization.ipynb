{
 "cells": [
  {
   "cell_type": "code",
   "execution_count": 27,
   "id": "917b6de7",
   "metadata": {},
   "outputs": [],
   "source": [
    "import nltk\n",
    "from nltk.corpus import stopwords\n",
    "from nltk.tokenize import word_tokenize, sent_tokenize\n",
    "import re\n",
    "import heapq\n",
    "from transformers import pipeline\n",
    "from nltk.probability import FreqDist"
   ]
  },
  {
   "cell_type": "code",
   "execution_count": 43,
   "id": "1ec778a3",
   "metadata": {},
   "outputs": [],
   "source": [
    "def nltk_summary(book_text):\n",
    "    \n",
    "    book_text = re.sub(r'\\[[0-9]*\\]', ' ', book_text)\n",
    "    book_text = re.sub(r'\\s+', ' ', book_text)\n",
    "    formatted_text = re.sub('[^a-zA-Z]', ' ', book_text )\n",
    "    formatted_text = re.sub(r'\\s+', ' ', formatted_text)\n",
    "\n",
    "    sentence_list = nltk.sent_tokenize(book_text)\n",
    "\n",
    "    stopwords = nltk.corpus.stopwords.words('english')\n",
    "\n",
    "    word_frequencies = {}\n",
    "    for word in nltk.word_tokenize(formatted_text):\n",
    "        if word not in stopwords:\n",
    "            if word not in word_frequencies.keys():\n",
    "                word_frequencies[word] = 1\n",
    "            else:\n",
    "                word_frequencies[word] += 1\n",
    "\n",
    "    maximum_frequncy = max(word_frequencies.values())\n",
    "\n",
    "    for word in word_frequencies.keys():\n",
    "        word_frequencies[word] = (word_frequencies[word]/maximum_frequncy)\n",
    "\n",
    "\n",
    "    sentence_scores = {}\n",
    "    for sent in sentence_list:\n",
    "        for word in nltk.word_tokenize(sent.lower()):\n",
    "            if word in word_frequencies.keys():\n",
    "                if len(sent.split(' ')) < 100:\n",
    "                    if sent not in sentence_scores.keys():\n",
    "                        sentence_scores[sent] = word_frequencies[word]\n",
    "                    else:\n",
    "                        sentence_scores[sent] += word_frequencies[word]\n",
    "\n",
    "\n",
    "    summary_sentences = heapq.nlargest(7, sentence_scores, key=sentence_scores.get)\n",
    "\n",
    "    summary = ' '.join(summary_sentences)\n",
    "    return(summary)"
   ]
  },
  {
   "cell_type": "code",
   "execution_count": 44,
   "id": "a22b8ee0",
   "metadata": {},
   "outputs": [],
   "source": [
    "with open('Data/time_machine.txt', encoding='utf-8') as f:\n",
    "    line = f.readlines()\n",
    "    book_text = ''.join(line)"
   ]
  },
  {
   "cell_type": "code",
   "execution_count": 45,
   "id": "6f81b3d0",
   "metadata": {},
   "outputs": [
    {
     "data": {
      "text/plain": [
       "'“Because I presume that it has not moved in space, and if it travelled into the future it would still be here all this time, since it must have travelled through this time.” “But,” said I, “If it travelled into the past it would have been visible when we came first into this room; and last Thursday when we were here; and the Thursday before that; and so forth!” “Serious objections,” remarked the Provincial Mayor, with an air of impartiality, turning towards the Time Traveller. However, I felt like a schoolmaster amidst children, and persisted, and presently I had a score of noun substantives at least at my command; and then I got to demonstrative pronouns, and even the verb ‘to eat.’ But it was slow work, and the little people soon tired and wanted to get away from my interrogations, so I determined, rather of necessity, to let them give their lessons in little doses when they felt inclined. \\ufeffTitle: The Time Machine Author: H. G. Wells Language: English Character set encoding: UTF-8 CONTENTS I Introduction II The Machine III The Time Traveller Returns IV Time Travelling V In the Golden Age VI The Sunset of Mankind VII A Sudden Shock VIII Explanation IX The Morlocks X When Night Came XI The Palace of Green Porcelain XII In the Darkness XIII The Trap of the White Sphinx XIV The Further Vision XV The Time Traveller’s Return XVI After the Story Epilogue I. Presently, as I went on, still gaining velocity, the palpitation of night and day merged into one continuous greyness; the sky took on a wonderful deepness of blue, a splendid luminous colour like that of early twilight; the jerking sun became a streak of fire, a brilliant arch, in space; the moon a fainter fluctuating band; and I could see nothing of the stars, save now and then a brighter circle flickering in the blue. I could not find it at first; but, after a time in the profound obscurity, I came upon one of those round well-like openings of which I have told you, half closed by a fallen pillar. For, by merely seeming fond of me, and showing in her weak, futile way that she cared for me, the little doll of a creature presently gave my return to the neighbourhood of the White Sphinx almost the feeling of coming home; and I would watch for her tiny figure of white and gold so soon as I came over the hill. He, I know—for the question had been discussed among us long before the Time Machine was made—thought but cheerlessly of the Advancement of Mankind, and saw in the growing pile of civilisation only a foolish heaping that must inevitably fall back upon and destroy its makers in the end.'"
      ]
     },
     "execution_count": 45,
     "metadata": {},
     "output_type": "execute_result"
    }
   ],
   "source": [
    "nltk_summary(book_text)"
   ]
  },
  {
   "cell_type": "code",
   "execution_count": null,
   "id": "e6fbb6ec",
   "metadata": {},
   "outputs": [],
   "source": []
  }
 ],
 "metadata": {
  "kernelspec": {
   "display_name": "Python 3 (ipykernel)",
   "language": "python",
   "name": "python3"
  },
  "language_info": {
   "codemirror_mode": {
    "name": "ipython",
    "version": 3
   },
   "file_extension": ".py",
   "mimetype": "text/x-python",
   "name": "python",
   "nbconvert_exporter": "python",
   "pygments_lexer": "ipython3",
   "version": "3.10.11"
  }
 },
 "nbformat": 4,
 "nbformat_minor": 5
}
