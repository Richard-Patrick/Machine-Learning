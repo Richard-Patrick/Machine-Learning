{
 "cells": [
  {
   "cell_type": "code",
   "execution_count": 1,
   "id": "909c1015",
   "metadata": {},
   "outputs": [],
   "source": [
    "import numpy as np\n",
    "import pandas as pd\n",
    "import os\n",
    "from sklearn.feature_extraction.text import CountVectorizer\n",
    "from sklearn.metrics.pairwise import cosine_similarity"
   ]
  },
  {
   "cell_type": "code",
   "execution_count": 2,
   "id": "0b7f6978",
   "metadata": {},
   "outputs": [],
   "source": [
    "TV = pd.read_csv('Data/TV Series.csv')"
   ]
  },
  {
   "cell_type": "code",
   "execution_count": 3,
   "id": "fe29ed40",
   "metadata": {},
   "outputs": [
    {
     "data": {
      "text/html": [
       "<div>\n",
       "<style scoped>\n",
       "    .dataframe tbody tr th:only-of-type {\n",
       "        vertical-align: middle;\n",
       "    }\n",
       "\n",
       "    .dataframe tbody tr th {\n",
       "        vertical-align: top;\n",
       "    }\n",
       "\n",
       "    .dataframe thead th {\n",
       "        text-align: right;\n",
       "    }\n",
       "</style>\n",
       "<table border=\"1\" class=\"dataframe\">\n",
       "  <thead>\n",
       "    <tr style=\"text-align: right;\">\n",
       "      <th></th>\n",
       "      <th>Series Title</th>\n",
       "      <th>Release Year</th>\n",
       "      <th>Runtime</th>\n",
       "      <th>Genre</th>\n",
       "      <th>Rating</th>\n",
       "      <th>Cast</th>\n",
       "      <th>Synopsis</th>\n",
       "    </tr>\n",
       "  </thead>\n",
       "  <tbody>\n",
       "    <tr>\n",
       "      <th>0</th>\n",
       "      <td>Wednesday</td>\n",
       "      <td>(2022– )</td>\n",
       "      <td>45 min</td>\n",
       "      <td>Comedy, Crime, Fantasy</td>\n",
       "      <td>8.2</td>\n",
       "      <td>Jenna Ortega, Hunter Doohan, Percy Hynes White...</td>\n",
       "      <td>Follows Wednesday Addams' years as a student, ...</td>\n",
       "    </tr>\n",
       "    <tr>\n",
       "      <th>1</th>\n",
       "      <td>Yellowstone</td>\n",
       "      <td>(2018– )</td>\n",
       "      <td>60 min</td>\n",
       "      <td>Drama, Western</td>\n",
       "      <td>8.7</td>\n",
       "      <td>Kevin Costner, Luke Grimes, Kelly Reilly, Wes ...</td>\n",
       "      <td>A ranching family in Montana faces off against...</td>\n",
       "    </tr>\n",
       "  </tbody>\n",
       "</table>\n",
       "</div>"
      ],
      "text/plain": [
       "  Series Title Release Year Runtime                   Genre Rating  \\\n",
       "0    Wednesday     (2022– )  45 min  Comedy, Crime, Fantasy    8.2   \n",
       "1  Yellowstone     (2018– )  60 min          Drama, Western    8.7   \n",
       "\n",
       "                                                Cast  \\\n",
       "0  Jenna Ortega, Hunter Doohan, Percy Hynes White...   \n",
       "1  Kevin Costner, Luke Grimes, Kelly Reilly, Wes ...   \n",
       "\n",
       "                                            Synopsis  \n",
       "0  Follows Wednesday Addams' years as a student, ...  \n",
       "1  A ranching family in Montana faces off against...  "
      ]
     },
     "execution_count": 3,
     "metadata": {},
     "output_type": "execute_result"
    }
   ],
   "source": [
    "TV.head(2)"
   ]
  },
  {
   "cell_type": "code",
   "execution_count": 4,
   "id": "9fa26172",
   "metadata": {},
   "outputs": [
    {
     "data": {
      "text/plain": [
       "(50000, 7)"
      ]
     },
     "execution_count": 4,
     "metadata": {},
     "output_type": "execute_result"
    }
   ],
   "source": [
    "TV.shape"
   ]
  },
  {
   "cell_type": "code",
   "execution_count": 5,
   "id": "84b75d91",
   "metadata": {},
   "outputs": [],
   "source": [
    "TV=TV.drop_duplicates(subset=['Series Title'])\n",
    "TV.dropna(inplace=True)"
   ]
  },
  {
   "cell_type": "code",
   "execution_count": 6,
   "id": "44543075",
   "metadata": {},
   "outputs": [
    {
     "data": {
      "text/plain": [
       "(9404, 7)"
      ]
     },
     "execution_count": 6,
     "metadata": {},
     "output_type": "execute_result"
    }
   ],
   "source": [
    "TV.shape"
   ]
  },
  {
   "cell_type": "code",
   "execution_count": 7,
   "id": "59b491cd",
   "metadata": {},
   "outputs": [],
   "source": [
    "TV['Synopsis']=TV['Synopsis'].str.lower()"
   ]
  },
  {
   "cell_type": "code",
   "execution_count": 8,
   "id": "cea4de6a",
   "metadata": {},
   "outputs": [],
   "source": [
    "cv = CountVectorizer(max_features=5000,stop_words='english')"
   ]
  },
  {
   "cell_type": "code",
   "execution_count": 9,
   "id": "ad393741",
   "metadata": {},
   "outputs": [],
   "source": [
    "vector = cv.fit_transform(TV['Synopsis']).toarray()"
   ]
  },
  {
   "cell_type": "code",
   "execution_count": 10,
   "id": "8224dcb9",
   "metadata": {},
   "outputs": [],
   "source": [
    "similarity = cosine_similarity(vector)"
   ]
  },
  {
   "cell_type": "code",
   "execution_count": 11,
   "id": "b235604b",
   "metadata": {},
   "outputs": [
    {
     "data": {
      "text/plain": [
       "0"
      ]
     },
     "execution_count": 11,
     "metadata": {},
     "output_type": "execute_result"
    }
   ],
   "source": [
    "TV[TV['Series Title'] == 'Wednesday'].index[0]"
   ]
  },
  {
   "cell_type": "code",
   "execution_count": 12,
   "id": "cb6ecc43",
   "metadata": {},
   "outputs": [
    {
     "data": {
      "text/html": [
       "<div>\n",
       "<style scoped>\n",
       "    .dataframe tbody tr th:only-of-type {\n",
       "        vertical-align: middle;\n",
       "    }\n",
       "\n",
       "    .dataframe tbody tr th {\n",
       "        vertical-align: top;\n",
       "    }\n",
       "\n",
       "    .dataframe thead th {\n",
       "        text-align: right;\n",
       "    }\n",
       "</style>\n",
       "<table border=\"1\" class=\"dataframe\">\n",
       "  <thead>\n",
       "    <tr style=\"text-align: right;\">\n",
       "      <th></th>\n",
       "      <th>Series Title</th>\n",
       "      <th>Release Year</th>\n",
       "      <th>Runtime</th>\n",
       "      <th>Genre</th>\n",
       "      <th>Rating</th>\n",
       "      <th>Cast</th>\n",
       "      <th>Synopsis</th>\n",
       "    </tr>\n",
       "  </thead>\n",
       "  <tbody>\n",
       "    <tr>\n",
       "      <th>75</th>\n",
       "      <td>The Blacklist</td>\n",
       "      <td>(2013– )</td>\n",
       "      <td>43 min</td>\n",
       "      <td>Crime, Drama, Mystery</td>\n",
       "      <td>8.0</td>\n",
       "      <td>James Spader, Megan Boone, Diego Klattenhoff, ...</td>\n",
       "      <td>a new fbi profiler, elizabeth keen, has her en...</td>\n",
       "    </tr>\n",
       "    <tr>\n",
       "      <th>2797</th>\n",
       "      <td>The Blacklist: Redemption</td>\n",
       "      <td>(2017)</td>\n",
       "      <td>43 min</td>\n",
       "      <td>Action, Crime, Drama</td>\n",
       "      <td>7.0</td>\n",
       "      <td>Famke Janssen, Ryan Eggold, Edi Gathegi, Tawny...</td>\n",
       "      <td>covert operative tom keen joins forces with su...</td>\n",
       "    </tr>\n",
       "    <tr>\n",
       "      <th>6375</th>\n",
       "      <td>Blacklist</td>\n",
       "      <td>(2019)</td>\n",
       "      <td>****</td>\n",
       "      <td>Action, Drama, Romance</td>\n",
       "      <td>6.8</td>\n",
       "      <td>Korapat Kirdpan, Pawat Chittsawangdee, Wachira...</td>\n",
       "      <td>after his sister went missing, traffic is offe...</td>\n",
       "    </tr>\n",
       "  </tbody>\n",
       "</table>\n",
       "</div>"
      ],
      "text/plain": [
       "                   Series Title Release Year Runtime                   Genre  \\\n",
       "75                The Blacklist     (2013– )  43 min   Crime, Drama, Mystery   \n",
       "2797  The Blacklist: Redemption       (2017)  43 min    Action, Crime, Drama   \n",
       "6375                  Blacklist       (2019)    ****  Action, Drama, Romance   \n",
       "\n",
       "     Rating                                               Cast  \\\n",
       "75      8.0  James Spader, Megan Boone, Diego Klattenhoff, ...   \n",
       "2797    7.0  Famke Janssen, Ryan Eggold, Edi Gathegi, Tawny...   \n",
       "6375    6.8  Korapat Kirdpan, Pawat Chittsawangdee, Wachira...   \n",
       "\n",
       "                                               Synopsis  \n",
       "75    a new fbi profiler, elizabeth keen, has her en...  \n",
       "2797  covert operative tom keen joins forces with su...  \n",
       "6375  after his sister went missing, traffic is offe...  "
      ]
     },
     "execution_count": 12,
     "metadata": {},
     "output_type": "execute_result"
    }
   ],
   "source": [
    "TV[TV['Series Title'].str.contains('Blacklist')]"
   ]
  },
  {
   "cell_type": "code",
   "execution_count": 13,
   "id": "1e16d4a8",
   "metadata": {},
   "outputs": [],
   "source": [
    "def recommend(movie):\n",
    "    index = TV[TV['Series Title'] == movie].index[0]\n",
    "    distances = sorted(list(enumerate(similarity[index])),reverse=True,key = lambda x: x[1])\n",
    "    for i in distances[1:10]:\n",
    "        print(TV.iloc[i[0]][0])"
   ]
  },
  {
   "cell_type": "code",
   "execution_count": 14,
   "id": "3ebfbd72",
   "metadata": {},
   "outputs": [
    {
     "name": "stdout",
     "output_type": "stream",
     "text": [
      "A Place to Call Home\n",
      "My Little Pony: Tell Your Tale\n",
      "The Good Fight\n",
      "Life Below Zero: Next Generation\n",
      "A New Life in the Sun\n",
      "Poldark\n",
      "Hannibal\n",
      "Living with Yourself\n",
      "Star Trek: New Voyages\n"
     ]
    }
   ],
   "source": [
    "recommend('The Blacklist')"
   ]
  },
  {
   "cell_type": "code",
   "execution_count": null,
   "id": "4ea42bd3",
   "metadata": {},
   "outputs": [],
   "source": []
  }
 ],
 "metadata": {
  "kernelspec": {
   "display_name": "Python 3 (ipykernel)",
   "language": "python",
   "name": "python3"
  },
  "language_info": {
   "codemirror_mode": {
    "name": "ipython",
    "version": 3
   },
   "file_extension": ".py",
   "mimetype": "text/x-python",
   "name": "python",
   "nbconvert_exporter": "python",
   "pygments_lexer": "ipython3",
   "version": "3.10.9"
  }
 },
 "nbformat": 4,
 "nbformat_minor": 5
}
