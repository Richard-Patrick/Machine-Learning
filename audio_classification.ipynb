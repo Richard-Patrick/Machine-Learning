{
 "cells": [
  {
   "cell_type": "code",
   "execution_count": 53,
   "metadata": {},
   "outputs": [],
   "source": [
    "import numpy as np\n",
    "import pandas as pd "
   ]
  },
  {
   "cell_type": "code",
   "execution_count": 54,
   "metadata": {},
   "outputs": [],
   "source": [
    "import os\n",
    "import pathlib\n",
    "import matplotlib.pyplot as plt\n",
    "import numpy as np\n",
    "import seaborn \n",
    "import tensorflow as tf\n",
    "from tensorflow.keras.layers.experimental import preprocessing\n",
    "from tensorflow.keras import layers\n",
    "from tensorflow.keras import models\n",
    "from IPython import display"
   ]
  },
  {
   "cell_type": "code",
   "execution_count": null,
   "metadata": {},
   "outputs": [],
   "source": [
    "# setting up the data directory\n",
    "DATA_DIR=\"/kaggle/input/audio-cats-and-dogs/cats_dogs/\"\n",
    "\n",
    "# setting up path for train and test data\n",
    "train_dir=DATA_DIR+\"/train\"\n",
    "test_dir=DATA_DIR+\"/test\""
   ]
  },
  {
   "cell_type": "code",
   "execution_count": null,
   "metadata": {},
   "outputs": [],
   "source": [
    "# get the train files\n",
    "file_train = tf.io.gfile.glob(train_dir + '/*/*')\n",
    "# shuffle \n",
    "file_train = tf.random.shuffle(file_train)\n",
    "\n",
    "train_ds=file_train\n",
    "\n",
    "# get the test files\n",
    "file_test = tf.io.gfile.glob(test_dir + '/*/*')\n",
    "# shuffle \n",
    "file_test = tf.random.shuffle(file_test)\n",
    "\n",
    "\n",
    "test_ds=file_test\n",
    "print(\"Shape of train data:- \", train_ds.shape)\n",
    "print(\"Shape of test data:- \",file_test.shape)\n",
    "Shape of train data:-  (210,)\n",
    "Shape of test data:-  (67,)"
   ]
  },
  {
   "cell_type": "code",
   "execution_count": null,
   "metadata": {},
   "outputs": [],
   "source": []
  },
  {
   "cell_type": "code",
   "execution_count": null,
   "metadata": {},
   "outputs": [],
   "source": []
  },
  {
   "cell_type": "code",
   "execution_count": null,
   "metadata": {},
   "outputs": [],
   "source": []
  },
  {
   "cell_type": "code",
   "execution_count": null,
   "metadata": {},
   "outputs": [],
   "source": []
  },
  {
   "cell_type": "code",
   "execution_count": null,
   "metadata": {},
   "outputs": [],
   "source": []
  }
 ],
 "metadata": {
  "kernelspec": {
   "display_name": "gpu",
   "language": "python",
   "name": "python3"
  },
  "language_info": {
   "codemirror_mode": {
    "name": "ipython",
    "version": 3
   },
   "file_extension": ".py",
   "mimetype": "text/x-python",
   "name": "python",
   "nbconvert_exporter": "python",
   "pygments_lexer": "ipython3",
   "version": "3.10.12"
  },
  "orig_nbformat": 4
 },
 "nbformat": 4,
 "nbformat_minor": 2
}
