{
 "cells": [
  {
   "cell_type": "code",
   "execution_count": 1,
   "metadata": {},
   "outputs": [],
   "source": [
    "import numpy as np\n",
    "import pandas as pd "
   ]
  },
  {
   "cell_type": "code",
   "execution_count": 2,
   "metadata": {},
   "outputs": [],
   "source": [
    "import os\n",
    "import pathlib\n",
    "import matplotlib.pyplot as plt\n",
    "import numpy as np\n",
    "import seaborn \n",
    "import tensorflow as tf\n",
    "from tensorflow.keras.layers.experimental import preprocessing\n",
    "from tensorflow.keras import layers\n",
    "from tensorflow.keras import models\n",
    "from IPython import display"
   ]
  },
  {
   "cell_type": "code",
   "execution_count": 3,
   "metadata": {},
   "outputs": [],
   "source": [
    "# setting up the data directory\n",
    "DATA_DIR=\"Data/cats_dogs/\"\n",
    "\n",
    "# setting up path for train and test data\n",
    "train_dir=DATA_DIR+\"/train\"\n",
    "test_dir=DATA_DIR+\"/test\""
   ]
  },
  {
   "cell_type": "code",
   "execution_count": 4,
   "metadata": {},
   "outputs": [
    {
     "name": "stdout",
     "output_type": "stream",
     "text": [
      "Shape of train data:-  (210,)\n",
      "Shape of test data:-  (67,)\n"
     ]
    }
   ],
   "source": [
    "# get the train files\n",
    "file_train = tf.io.gfile.glob(train_dir + '/*/*')\n",
    "# shuffle \n",
    "file_train = tf.random.shuffle(file_train)\n",
    "\n",
    "train_ds=file_train\n",
    "\n",
    "# get the test files\n",
    "file_test = tf.io.gfile.glob(test_dir + '/*/*')\n",
    "# shuffle \n",
    "file_test = tf.random.shuffle(file_test)\n",
    "\n",
    "\n",
    "test_ds=file_test\n",
    "print(\"Shape of train data:- \", train_ds.shape)\n",
    "print(\"Shape of test data:- \",file_test.shape)"
   ]
  },
  {
   "cell_type": "code",
   "execution_count": null,
   "metadata": {},
   "outputs": [],
   "source": [
    "# Function to get waveform and it's label\n",
    "def get_waveform_label(file):\n",
    "  # get the label\n",
    "  lab = tf.strings.split(file, os.path.sep)[-2]\n",
    "  # read the binalry file \n",
    "  audio_binary = tf.io.read_file(file)\n",
    "  # decode the file \n",
    "  audio, _ = tf.audio.decode_wav(audio_binary)\n",
    "  # sqeeze tha audio\n",
    "  waveform=tf.squeeze(audio, axis=-1)\n",
    "  return waveform, lab\n",
    "\n",
    "# get waveforms and labels of all files\n",
    "AUTO = tf.data.AUTOTUNE\n",
    "files_ds = tf.data.Dataset.from_tensor_slices(train_ds)\n",
    "waveform_ds = files_ds.map(get_waveform_label, num_parallel_calls=AUTO)"
   ]
  },
  {
   "cell_type": "code",
   "execution_count": null,
   "metadata": {},
   "outputs": [],
   "source": [
    "# number of rows and columns of plot\n",
    "row,col = 2,2\n",
    "n = row*col\n",
    "fig, axs = plt.subplots(row, col, figsize=(9, 9))\n",
    "\n",
    "# plotting waveforms\n",
    "for i, (audio, label) in enumerate(waveform_ds.take(n)):\n",
    "  r = i // col\n",
    "  c = i % col\n",
    "  ax = axs[r][c]\n",
    "  ax.plot(audio.numpy())\n",
    "\n",
    "  label = label.numpy().decode('utf-8')\n",
    "  ax.set_title(label)\n",
    "\n",
    "plt.show()\n"
   ]
  },
  {
   "cell_type": "code",
   "execution_count": null,
   "metadata": {},
   "outputs": [],
   "source": [
    "# function to get the spectogram and the labels\n",
    "def get_spectrogram_label(audio, label):\n",
    "  # apply padding\n",
    "  padding = tf.zeros([300000] - tf.shape(audio), dtype=tf.float32)\n",
    "  # get the spectogram of the audio\n",
    "  wave = tf.cast(audio, tf.float32)\n",
    "  eq_length = tf.concat([wave, padding], 0)\n",
    "  spectrogram = tf.signal.stft(\n",
    "      eq_length, frame_length=210, frame_step=110)    \n",
    "  spectrogram = tf.abs(spectrogram)\n",
    "  spectrogram = tf.expand_dims(spectrogram, -1)\n",
    "  # get associated label of the audio\n",
    "  label_id = tf.argmax(label == labels)\n",
    "  # return the spectogram and the label\n",
    "  return spectrogram, label_id\n",
    "\n",
    "# get all the labels from the dataset   \n",
    "labels = np.array([\"cat\",\"dog\"])\n",
    "\n",
    "# get the labels and spectogram\n",
    "spectrogram_ds = waveform_ds.map(\n",
    "    get_spectrogram_label, num_parallel_calls=AUTO)"
   ]
  },
  {
   "cell_type": "code",
   "execution_count": null,
   "metadata": {},
   "outputs": [],
   "source": [
    "# function to plot the spectogram\n",
    "def plot_spect(spectrogram, ax):\n",
    "  # Converting frequencies to log and transpose to repesent time on x axis\n",
    "  log_spec = np.log(spectrogram.T)\n",
    "  height = log_spec.shape[0]\n",
    "  width = log_spec.shape[1]\n",
    "  X = np.linspace(0, np.size(spectrogram), num=width, dtype=int)\n",
    "  Y = range(height)\n",
    "  ax.pcolormesh(X, Y, log_spec)\n",
    "\n",
    "# plot using a subplot\n",
    "rows = 2\n",
    "cols = 2\n",
    "n = rows*cols\n",
    "fig, axes = plt.subplots(rows, cols, figsize=(9, 9))\n",
    "for i, (spectrogram, label_id) in enumerate(spectrogram_ds.take(n)):\n",
    "  r = i // cols\n",
    "  c = i % cols\n",
    "  ax = axes[r][c]\n",
    "  # function call\n",
    "  plot_spect(np.squeeze(spectrogram.numpy()), ax)\n",
    "  # set the title label\n",
    "  ax.set_title(labels[label_id.numpy()])\n",
    "  ax.axis('off')\n",
    "plt.show()"
   ]
  },
  {
   "cell_type": "code",
   "execution_count": null,
   "metadata": {},
   "outputs": [],
   "source": [
    "# function to preprocess the data\n",
    "def preprocess(file):\n",
    "  files_ds = tf.data.Dataset.from_tensor_slices(file)\n",
    "  # get waveforms and labels\n",
    "  output_ds = files_ds.map(get_waveform_label, num_parallel_calls=AUTO)\n",
    "  # get spectogram and labels\n",
    "  output_ds = output_ds.map(\n",
    "      get_spectrogram_label,  num_parallel_calls=AUTO)\n",
    " # return the data\n",
    "  return output_ds\n",
    "\n",
    "# train test and validate data\n",
    "train_ds = spectrogram_ds\n",
    "\n",
    "test_ds = preprocess(test_ds)"
   ]
  },
  {
   "cell_type": "code",
   "execution_count": null,
   "metadata": {},
   "outputs": [],
   "source": [
    "# initialize a batch size\n",
    "batch_size = 64\n",
    "# batch train and validate data\n",
    "train_ds = train_ds.batch(batch_size)\n",
    "# cache and prefetch the data\n",
    "train_ds = train_ds.cache().prefetch(AUTO)"
   ]
  },
  {
   "cell_type": "code",
   "execution_count": null,
   "metadata": {},
   "outputs": [],
   "source": [
    "# building the model\n",
    "for spectrogram, _ in spectrogram_ds.take(1):\n",
    "  input_shape = spectrogram.shape\n",
    "print('Input shape:', input_shape)\n",
    "num_labels = len(labels)\n",
    "# normalize adapt \n",
    "norm_layer = preprocessing.Normalization()\n",
    "norm_layer.adapt(spectrogram_ds.map(lambda x, _: x))"
   ]
  },
  {
   "cell_type": "code",
   "execution_count": null,
   "metadata": {},
   "outputs": [],
   "source": []
  }
 ],
 "metadata": {
  "kernelspec": {
   "display_name": "gpu",
   "language": "python",
   "name": "python3"
  },
  "language_info": {
   "codemirror_mode": {
    "name": "ipython",
    "version": 3
   },
   "file_extension": ".py",
   "mimetype": "text/x-python",
   "name": "python",
   "nbconvert_exporter": "python",
   "pygments_lexer": "ipython3",
   "version": "3.10.12"
  },
  "orig_nbformat": 4
 },
 "nbformat": 4,
 "nbformat_minor": 2
}
