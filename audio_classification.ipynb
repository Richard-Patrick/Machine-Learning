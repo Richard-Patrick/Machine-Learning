{
 "cells": [
  {
   "cell_type": "code",
   "execution_count": 53,
   "metadata": {},
   "outputs": [],
   "source": [
    "import numpy as np\n",
    "import pandas as pd "
   ]
  },
  {
   "cell_type": "code",
   "execution_count": 54,
   "metadata": {},
   "outputs": [],
   "source": [
    "import os\n",
    "import pathlib\n",
    "import matplotlib.pyplot as plt\n",
    "import numpy as np\n",
    "import seaborn \n",
    "import tensorflow as tf\n",
    "from tensorflow.keras.layers.experimental import preprocessing\n",
    "from tensorflow.keras import layers\n",
    "from tensorflow.keras import models\n",
    "from IPython import display"
   ]
  },
  {
   "cell_type": "code",
   "execution_count": null,
   "metadata": {},
   "outputs": [],
   "source": [
    "# setting up the data directory\n",
    "DATA_DIR=\"/kaggle/input/audio-cats-and-dogs/cats_dogs/\"\n",
    "\n",
    "# setting up path for train and test data\n",
    "train_dir=DATA_DIR+\"/train\"\n",
    "test_dir=DATA_DIR+\"/test\""
   ]
  },
  {
   "cell_type": "code",
   "execution_count": null,
   "metadata": {},
   "outputs": [],
   "source": [
    "# get the train files\n",
    "file_train = tf.io.gfile.glob(train_dir + '/*/*')\n",
    "# shuffle \n",
    "file_train = tf.random.shuffle(file_train)\n",
    "\n",
    "train_ds=file_train\n",
    "\n",
    "# get the test files\n",
    "file_test = tf.io.gfile.glob(test_dir + '/*/*')\n",
    "# shuffle \n",
    "file_test = tf.random.shuffle(file_test)\n",
    "\n",
    "\n",
    "test_ds=file_test\n",
    "print(\"Shape of train data:- \", train_ds.shape)\n",
    "print(\"Shape of test data:- \",file_test.shape)"
   ]
  },
  {
   "cell_type": "code",
   "execution_count": null,
   "metadata": {},
   "outputs": [],
   "source": [
    "# Function to get waveform and it's label\n",
    "def get_waveform_label(file):\n",
    "  # get the label\n",
    "  lab = tf.strings.split(file, os.path.sep)[-2]\n",
    "  # read the binalry file \n",
    "  audio_binary = tf.io.read_file(file)\n",
    "  # decode the file \n",
    "  audio, _ = tf.audio.decode_wav(audio_binary)\n",
    "  # sqeeze tha audio\n",
    "  waveform=tf.squeeze(audio, axis=-1)\n",
    "  return waveform, lab\n",
    "\n",
    "# get waveforms and labels of all files\n",
    "AUTO = tf.data.AUTOTUNE\n",
    "files_ds = tf.data.Dataset.from_tensor_slices(train_ds)\n",
    "waveform_ds = files_ds.map(get_waveform_label, num_parallel_calls=AUTO)"
   ]
  },
  {
   "cell_type": "code",
   "execution_count": null,
   "metadata": {},
   "outputs": [],
   "source": [
    "# number of rows and columns of plot\n",
    "row,col = 2,2\n",
    "n = row*col\n",
    "fig, axs = plt.subplots(row, col, figsize=(9, 9))\n",
    "\n",
    "# plotting waveforms\n",
    "for i, (audio, label) in enumerate(waveform_ds.take(n)):\n",
    "  r = i // col\n",
    "  c = i % col\n",
    "  ax = axs[r][c]\n",
    "  ax.plot(audio.numpy())\n",
    "\n",
    "  label = label.numpy().decode('utf-8')\n",
    "  ax.set_title(label)\n",
    "\n",
    "plt.show()\n"
   ]
  },
  {
   "cell_type": "code",
   "execution_count": null,
   "metadata": {},
   "outputs": [],
   "source": []
  },
  {
   "cell_type": "code",
   "execution_count": null,
   "metadata": {},
   "outputs": [],
   "source": []
  },
  {
   "cell_type": "code",
   "execution_count": null,
   "metadata": {},
   "outputs": [],
   "source": []
  }
 ],
 "metadata": {
  "kernelspec": {
   "display_name": "gpu",
   "language": "python",
   "name": "python3"
  },
  "language_info": {
   "codemirror_mode": {
    "name": "ipython",
    "version": 3
   },
   "file_extension": ".py",
   "mimetype": "text/x-python",
   "name": "python",
   "nbconvert_exporter": "python",
   "pygments_lexer": "ipython3",
   "version": "3.10.12"
  },
  "orig_nbformat": 4
 },
 "nbformat": 4,
 "nbformat_minor": 2
}
